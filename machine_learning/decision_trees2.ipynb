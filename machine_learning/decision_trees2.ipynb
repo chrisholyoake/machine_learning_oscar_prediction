{
 "cells": [
  {
   "cell_type": "code",
   "execution_count": 1,
   "metadata": {},
   "outputs": [],
   "source": [
    "from sklearn import tree\n",
    "import pandas as pd\n",
    "import os"
   ]
  },
  {
   "cell_type": "code",
   "execution_count": 2,
   "metadata": {},
   "outputs": [],
   "source": [
    "df = pd.read_csv(\"../data_sets/coercing_data/16_columns_coerced.csv\")\n"
   ]
  },
  {
   "cell_type": "code",
   "execution_count": 3,
   "metadata": {},
   "outputs": [],
   "source": [
    "df = df.fillna(0)\n"
   ]
  },
  {
   "cell_type": "code",
   "execution_count": 4,
   "metadata": {},
   "outputs": [],
   "source": [
    "# Changing award values from 'number of awards won' to 'whether or not it won an award'\n",
    "df['Awards'].values[df['Awards'] > 0] = 1\n",
    "\n",
    "df = df.drop([\"Unnamed: 0\"], axis=1)\n",
    "\n",
    "# Removing some percentage of non-Oscar winners\n",
    "df = df.drop(df.query('Awards == 0').sample(frac=.4).index)\n",
    "\n",
    "# Define the target as whether or not a movie won an award\n",
    "target = df[\"Awards\"]"
   ]
  },
  {
   "cell_type": "code",
   "execution_count": 5,
   "metadata": {},
   "outputs": [
    {
     "data": {
      "text/html": [
       "<div>\n",
       "<style scoped>\n",
       "    .dataframe tbody tr th:only-of-type {\n",
       "        vertical-align: middle;\n",
       "    }\n",
       "\n",
       "    .dataframe tbody tr th {\n",
       "        vertical-align: top;\n",
       "    }\n",
       "\n",
       "    .dataframe thead th {\n",
       "        text-align: right;\n",
       "    }\n",
       "</style>\n",
       "<table border=\"1\" class=\"dataframe\">\n",
       "  <thead>\n",
       "    <tr style=\"text-align: right;\">\n",
       "      <th></th>\n",
       "      <th>IMDB</th>\n",
       "      <th>Metacritic</th>\n",
       "      <th>Rotten Tomatoes</th>\n",
       "      <th>Rank</th>\n",
       "      <th>Worldwide Box Office</th>\n",
       "      <th>Actors_1</th>\n",
       "      <th>Actors_2</th>\n",
       "      <th>Actors_3</th>\n",
       "      <th>directors_1</th>\n",
       "      <th>directors_2</th>\n",
       "      <th>Country_1</th>\n",
       "      <th>language_1</th>\n",
       "      <th>language_2</th>\n",
       "      <th>Genre_1</th>\n",
       "      <th>Genre_2</th>\n",
       "    </tr>\n",
       "  </thead>\n",
       "  <tbody>\n",
       "    <tr>\n",
       "      <th>0</th>\n",
       "      <td>8.9</td>\n",
       "      <td>94</td>\n",
       "      <td>0.94</td>\n",
       "      <td>726.0</td>\n",
       "      <td>212928762</td>\n",
       "      <td>5771</td>\n",
       "      <td>232</td>\n",
       "      <td>3537</td>\n",
       "      <td>1352</td>\n",
       "      <td>0</td>\n",
       "      <td>63</td>\n",
       "      <td>27</td>\n",
       "      <td>92</td>\n",
       "      <td>5</td>\n",
       "      <td>7</td>\n",
       "    </tr>\n",
       "    <tr>\n",
       "      <th>1</th>\n",
       "      <td>6.6</td>\n",
       "      <td>53</td>\n",
       "      <td>0.52</td>\n",
       "      <td>107.0</td>\n",
       "      <td>708996336</td>\n",
       "      <td>293</td>\n",
       "      <td>1811</td>\n",
       "      <td>2535</td>\n",
       "      <td>1041</td>\n",
       "      <td>0</td>\n",
       "      <td>63</td>\n",
       "      <td>27</td>\n",
       "      <td>0</td>\n",
       "      <td>0</td>\n",
       "      <td>1</td>\n",
       "    </tr>\n",
       "    <tr>\n",
       "      <th>3</th>\n",
       "      <td>8.5</td>\n",
       "      <td>87</td>\n",
       "      <td>0.96</td>\n",
       "      <td>301.0</td>\n",
       "      <td>385524784</td>\n",
       "      <td>4175</td>\n",
       "      <td>1095</td>\n",
       "      <td>3561</td>\n",
       "      <td>1457</td>\n",
       "      <td>0</td>\n",
       "      <td>63</td>\n",
       "      <td>27</td>\n",
       "      <td>0</td>\n",
       "      <td>1</td>\n",
       "      <td>4</td>\n",
       "    </tr>\n",
       "    <tr>\n",
       "      <th>4</th>\n",
       "      <td>7.9</td>\n",
       "      <td>62</td>\n",
       "      <td>0.88</td>\n",
       "      <td>2857.0</td>\n",
       "      <td>45875171</td>\n",
       "      <td>1786</td>\n",
       "      <td>4637</td>\n",
       "      <td>402</td>\n",
       "      <td>843</td>\n",
       "      <td>0</td>\n",
       "      <td>63</td>\n",
       "      <td>27</td>\n",
       "      <td>0</td>\n",
       "      <td>4</td>\n",
       "      <td>7</td>\n",
       "    </tr>\n",
       "    <tr>\n",
       "      <th>5</th>\n",
       "      <td>7.8</td>\n",
       "      <td>60</td>\n",
       "      <td>0.70</td>\n",
       "      <td>2338.0</td>\n",
       "      <td>61466436</td>\n",
       "      <td>5329</td>\n",
       "      <td>3095</td>\n",
       "      <td>2663</td>\n",
       "      <td>1380</td>\n",
       "      <td>0</td>\n",
       "      <td>63</td>\n",
       "      <td>27</td>\n",
       "      <td>92</td>\n",
       "      <td>1</td>\n",
       "      <td>4</td>\n",
       "    </tr>\n",
       "  </tbody>\n",
       "</table>\n",
       "</div>"
      ],
      "text/plain": [
       "   IMDB  Metacritic  Rotten Tomatoes    Rank  Worldwide Box Office  Actors_1  \\\n",
       "0   8.9          94             0.94   726.0             212928762      5771   \n",
       "1   6.6          53             0.52   107.0             708996336       293   \n",
       "3   8.5          87             0.96   301.0             385524784      4175   \n",
       "4   7.9          62             0.88  2857.0              45875171      1786   \n",
       "5   7.8          60             0.70  2338.0              61466436      5329   \n",
       "\n",
       "   Actors_2  Actors_3  directors_1  directors_2  Country_1  language_1  \\\n",
       "0       232      3537         1352            0         63          27   \n",
       "1      1811      2535         1041            0         63          27   \n",
       "3      1095      3561         1457            0         63          27   \n",
       "4      4637       402          843            0         63          27   \n",
       "5      3095      2663         1380            0         63          27   \n",
       "\n",
       "   language_2  Genre_1  Genre_2  \n",
       "0          92        5        7  \n",
       "1           0        0        1  \n",
       "3           0        1        4  \n",
       "4           0        4        7  \n",
       "5          92        1        4  "
      ]
     },
     "execution_count": 5,
     "metadata": {},
     "output_type": "execute_result"
    }
   ],
   "source": [
    "data = df.drop(\"Awards\", axis=1)\n",
    "feature_names = data.columns\n",
    "data.head()"
   ]
  },
  {
   "cell_type": "code",
   "execution_count": 6,
   "metadata": {},
   "outputs": [],
   "source": [
    "# Split the data using train_test_split\n",
    "from sklearn.model_selection import train_test_split\n",
    "\n",
    "X_train, X_test, y_train, y_test = train_test_split(data, target, random_state=42)"
   ]
  },
  {
   "cell_type": "code",
   "execution_count": 7,
   "metadata": {},
   "outputs": [],
   "source": [
    "# Create a Decision Tree Classifier\n",
    "clf = tree.DecisionTreeClassifier()"
   ]
  },
  {
   "cell_type": "code",
   "execution_count": 8,
   "metadata": {},
   "outputs": [
    {
     "data": {
      "text/plain": [
       "DecisionTreeClassifier(class_weight=None, criterion='gini', max_depth=None,\n",
       "            max_features=None, max_leaf_nodes=None,\n",
       "            min_impurity_decrease=0.0, min_impurity_split=None,\n",
       "            min_samples_leaf=1, min_samples_split=2,\n",
       "            min_weight_fraction_leaf=0.0, presort=False, random_state=None,\n",
       "            splitter='best')"
      ]
     },
     "execution_count": 8,
     "metadata": {},
     "output_type": "execute_result"
    }
   ],
   "source": [
    "# Fit the classifier to the data\n",
    "clf.fit(X_train, y_train)"
   ]
  },
  {
   "cell_type": "code",
   "execution_count": 9,
   "metadata": {},
   "outputs": [
    {
     "data": {
      "text/plain": [
       "0.8621262458471761"
      ]
     },
     "execution_count": 9,
     "metadata": {},
     "output_type": "execute_result"
    }
   ],
   "source": [
    "# Calculate the accuracy for the test data\n",
    "clf.score(X_test, y_test)"
   ]
  },
  {
   "cell_type": "code",
   "execution_count": 10,
   "metadata": {},
   "outputs": [
    {
     "name": "stderr",
     "output_type": "stream",
     "text": [
      "/anaconda3/lib/python3.6/site-packages/sklearn/ensemble/forest.py:246: FutureWarning: The default value of n_estimators will change from 10 in version 0.20 to 100 in 0.22.\n",
      "  \"10 in version 0.20 to 100 in 0.22.\", FutureWarning)\n"
     ]
    },
    {
     "data": {
      "text/plain": [
       "0.9169435215946844"
      ]
     },
     "execution_count": 10,
     "metadata": {},
     "output_type": "execute_result"
    }
   ],
   "source": [
    "from sklearn.ensemble import RandomForestClassifier\n",
    "rf = RandomForestClassifier()\n",
    "rf.fit(X_train, y_train)\n",
    "rf.score(X_test, y_test)\n"
   ]
  },
  {
   "cell_type": "code",
   "execution_count": 11,
   "metadata": {},
   "outputs": [
    {
     "data": {
      "text/html": [
       "<div>\n",
       "<style scoped>\n",
       "    .dataframe tbody tr th:only-of-type {\n",
       "        vertical-align: middle;\n",
       "    }\n",
       "\n",
       "    .dataframe tbody tr th {\n",
       "        vertical-align: top;\n",
       "    }\n",
       "\n",
       "    .dataframe thead th {\n",
       "        text-align: right;\n",
       "    }\n",
       "</style>\n",
       "<table border=\"1\" class=\"dataframe\">\n",
       "  <thead>\n",
       "    <tr style=\"text-align: right;\">\n",
       "      <th></th>\n",
       "      <th>Weight</th>\n",
       "    </tr>\n",
       "    <tr>\n",
       "      <th>Name</th>\n",
       "      <th></th>\n",
       "    </tr>\n",
       "  </thead>\n",
       "  <tbody>\n",
       "    <tr>\n",
       "      <th>Metacritic</th>\n",
       "      <td>15.48%</td>\n",
       "    </tr>\n",
       "    <tr>\n",
       "      <th>Rotten Tomatoes</th>\n",
       "      <td>15.04%</td>\n",
       "    </tr>\n",
       "    <tr>\n",
       "      <th>Worldwide Box Office</th>\n",
       "      <td>12.71%</td>\n",
       "    </tr>\n",
       "    <tr>\n",
       "      <th>IMDB</th>\n",
       "      <td>11.52%</td>\n",
       "    </tr>\n",
       "    <tr>\n",
       "      <th>Rank</th>\n",
       "      <td>9.07%</td>\n",
       "    </tr>\n",
       "    <tr>\n",
       "      <th>directors_1</th>\n",
       "      <td>7.08%</td>\n",
       "    </tr>\n",
       "    <tr>\n",
       "      <th>Actors_1</th>\n",
       "      <td>5.75%</td>\n",
       "    </tr>\n",
       "    <tr>\n",
       "      <th>Actors_2</th>\n",
       "      <td>5.69%</td>\n",
       "    </tr>\n",
       "    <tr>\n",
       "      <th>Actors_3</th>\n",
       "      <td>4.95%</td>\n",
       "    </tr>\n",
       "    <tr>\n",
       "      <th>Genre_2</th>\n",
       "      <td>4.02%</td>\n",
       "    </tr>\n",
       "    <tr>\n",
       "      <th>language_2</th>\n",
       "      <td>3.95%</td>\n",
       "    </tr>\n",
       "    <tr>\n",
       "      <th>Genre_1</th>\n",
       "      <td>2.97%</td>\n",
       "    </tr>\n",
       "    <tr>\n",
       "      <th>Country_1</th>\n",
       "      <td>0.99%</td>\n",
       "    </tr>\n",
       "    <tr>\n",
       "      <th>language_1</th>\n",
       "      <td>0.43%</td>\n",
       "    </tr>\n",
       "    <tr>\n",
       "      <th>directors_2</th>\n",
       "      <td>0.35%</td>\n",
       "    </tr>\n",
       "  </tbody>\n",
       "</table>\n",
       "</div>"
      ],
      "text/plain": [
       "                      Weight\n",
       "Name                        \n",
       "Metacritic            15.48%\n",
       "Rotten Tomatoes       15.04%\n",
       "Worldwide Box Office  12.71%\n",
       "IMDB                  11.52%\n",
       "Rank                   9.07%\n",
       "directors_1            7.08%\n",
       "Actors_1               5.75%\n",
       "Actors_2               5.69%\n",
       "Actors_3               4.95%\n",
       "Genre_2                4.02%\n",
       "language_2             3.95%\n",
       "Genre_1                2.97%\n",
       "Country_1              0.99%\n",
       "language_1             0.43%\n",
       "directors_2            0.35%"
      ]
     },
     "execution_count": 11,
     "metadata": {},
     "output_type": "execute_result"
    }
   ],
   "source": [
    "\n",
    "labled_weights = pd.DataFrame(sorted(zip(rf.feature_importances_, feature_names), reverse=True))\n",
    "labled_weights = labled_weights.rename(columns={0:\"Weight\", 1: \"Name\"})\n",
    "labled_weights = labled_weights.set_index('Name')\n",
    "labled_weights['Weight'] = labled_weights['Weight'] * 100\n",
    "labled_weights['Weight'] = labled_weights['Weight'].map(\"{:,.2f}%\".format)\n",
    "labled_weights\n"
   ]
  },
  {
   "cell_type": "code",
   "execution_count": 12,
   "metadata": {},
   "outputs": [],
   "source": [
    "labled_weights.to_html('oscar_weights.html')"
   ]
  },
  {
   "cell_type": "code",
   "execution_count": 13,
   "metadata": {},
   "outputs": [
    {
     "data": {
      "text/html": [
       "<div>\n",
       "<style scoped>\n",
       "    .dataframe tbody tr th:only-of-type {\n",
       "        vertical-align: middle;\n",
       "    }\n",
       "\n",
       "    .dataframe tbody tr th {\n",
       "        vertical-align: top;\n",
       "    }\n",
       "\n",
       "    .dataframe thead th {\n",
       "        text-align: right;\n",
       "    }\n",
       "</style>\n",
       "<table border=\"1\" class=\"dataframe\">\n",
       "  <thead>\n",
       "    <tr style=\"text-align: right;\">\n",
       "      <th></th>\n",
       "      <th>Predicted NO</th>\n",
       "      <th>Predicted YES</th>\n",
       "    </tr>\n",
       "    <tr>\n",
       "      <th></th>\n",
       "      <th></th>\n",
       "      <th></th>\n",
       "    </tr>\n",
       "  </thead>\n",
       "  <tbody>\n",
       "    <tr>\n",
       "      <th>Actual NO</th>\n",
       "      <td>501</td>\n",
       "      <td>50</td>\n",
       "    </tr>\n",
       "    <tr>\n",
       "      <th>Actual YES</th>\n",
       "      <td>33</td>\n",
       "      <td>18</td>\n",
       "    </tr>\n",
       "  </tbody>\n",
       "</table>\n",
       "</div>"
      ],
      "text/plain": [
       "            Predicted NO  Predicted YES\n",
       "                                       \n",
       "Actual NO            501             50\n",
       "Actual YES            33             18"
      ]
     },
     "execution_count": 13,
     "metadata": {},
     "output_type": "execute_result"
    }
   ],
   "source": [
    "from sklearn.metrics import confusion_matrix\n",
    "average_precision = confusion_matrix(y_test, clf.predict(X_test))\n",
    "\n",
    "random_forest_matrix = pd.DataFrame(average_precision)\n",
    "random_forest_matrix.rename(columns={0:\"Predicted NO\", 1: \"Predicted YES\"})\n",
    "actuals = ['Actual NO','Actual YES']\n",
    "random_forest_matrix[''] = actuals\n",
    "\n",
    "random_forest_matrix = random_forest_matrix.set_index('')\n",
    "random_forest_matrix = random_forest_matrix.rename(columns={0:\"Predicted NO\", 1: \"Predicted YES\"})\n",
    "\n",
    "random_forest_matrix"
   ]
  },
  {
   "cell_type": "code",
   "execution_count": 14,
   "metadata": {},
   "outputs": [],
   "source": [
    "random_forest_matrix.to_html('decision_tree_confusion_matrix.html')"
   ]
  },
  {
   "cell_type": "code",
   "execution_count": null,
   "metadata": {},
   "outputs": [],
   "source": []
  }
 ],
 "metadata": {
  "kernelspec": {
   "display_name": "Python 3",
   "language": "python",
   "name": "python3"
  },
  "language_info": {
   "codemirror_mode": {
    "name": "ipython",
    "version": 3
   },
   "file_extension": ".py",
   "mimetype": "text/x-python",
   "name": "python",
   "nbconvert_exporter": "python",
   "pygments_lexer": "ipython3",
   "version": "3.6.8"
  },
  "varInspector": {
   "cols": {
    "lenName": 16,
    "lenType": 16,
    "lenVar": 40
   },
   "kernels_config": {
    "python": {
     "delete_cmd_postfix": "",
     "delete_cmd_prefix": "del ",
     "library": "var_list.py",
     "varRefreshCmd": "print(var_dic_list())"
    },
    "r": {
     "delete_cmd_postfix": ") ",
     "delete_cmd_prefix": "rm(",
     "library": "var_list.r",
     "varRefreshCmd": "cat(var_dic_list()) "
    }
   },
   "types_to_exclude": [
    "module",
    "function",
    "builtin_function_or_method",
    "instance",
    "_Feature"
   ],
   "window_display": false
  }
 },
 "nbformat": 4,
 "nbformat_minor": 2
}
