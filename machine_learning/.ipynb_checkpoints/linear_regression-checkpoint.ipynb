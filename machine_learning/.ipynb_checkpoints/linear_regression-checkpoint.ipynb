{
 "cells": [
  {
   "cell_type": "code",
   "execution_count": 1,
   "metadata": {
    "deletable": false,
    "editable": false,
    "nbgrader": {
     "checksum": "9492c7c543c200e39560276fe0a064e1",
     "grade": false,
     "grade_id": "cell-195a16dbc662c53b",
     "locked": true,
     "schema_version": 1,
     "solution": false
    }
   },
   "outputs": [],
   "source": [
    "%matplotlib inline\n",
    "import matplotlib.pyplot as plt\n",
    "import numpy as np\n",
    "import pandas as pd"
   ]
  },
  {
   "cell_type": "code",
   "execution_count": 2,
   "metadata": {},
   "outputs": [],
   "source": [
    "# Read the csv file into a pandas DataFrame\n",
    "\n",
    "df = pd.read_csv('../data_sets/combined_encoded_final_updated.csv') #Data Option 1 - gives us \n",
    "# df = pd.read_csv('../data_sets/combined_encoded_final_updated.csv') #Data Option 2 - gives us "
   ]
  },
  {
   "cell_type": "code",
   "execution_count": 3,
   "metadata": {},
   "outputs": [
    {
     "data": {
      "text/plain": [
       "0     726.0\n",
       "1     107.0\n",
       "2    3935.0\n",
       "3     301.0\n",
       "4    2857.0\n",
       "Name: Rank, dtype: float64"
      ]
     },
     "execution_count": 3,
     "metadata": {},
     "output_type": "execute_result"
    }
   ],
   "source": [
    "df[\"Rank\"] = pd.to_numeric(df[\"Rank\"], errors='coerce')\n",
    "df[\"Rank\"].head()"
   ]
  },
  {
   "cell_type": "code",
   "execution_count": 4,
   "metadata": {},
   "outputs": [
    {
     "data": {
      "text/plain": [
       "Unnamed: 0                    int64\n",
       "Box Office                    int64\n",
       "IMDB                        float64\n",
       "Metacritic                    int64\n",
       "Released                      int64\n",
       "Rotten Tomatoes             float64\n",
       "Rank                        float64\n",
       "Worldwide Box Office          int64\n",
       "Domestic Box Office           int64\n",
       "International Box Office      int64\n",
       "Awards                        int64\n",
       "Actors_1                      int64\n",
       "Actors_2                      int64\n",
       "Actors_3                      int64\n",
       "directors_1                   int64\n",
       "directors_2                   int64\n",
       "Country_1                     int64\n",
       "language_1                    int64\n",
       "language_2                    int64\n",
       "Genre_1                       int64\n",
       "Genre_2                       int64\n",
       "dtype: object"
      ]
     },
     "execution_count": 4,
     "metadata": {},
     "output_type": "execute_result"
    }
   ],
   "source": [
    "df.dtypes"
   ]
  },
  {
   "cell_type": "code",
   "execution_count": 5,
   "metadata": {},
   "outputs": [
    {
     "data": {
      "text/html": [
       "<div>\n",
       "<style scoped>\n",
       "    .dataframe tbody tr th:only-of-type {\n",
       "        vertical-align: middle;\n",
       "    }\n",
       "\n",
       "    .dataframe tbody tr th {\n",
       "        vertical-align: top;\n",
       "    }\n",
       "\n",
       "    .dataframe thead th {\n",
       "        text-align: right;\n",
       "    }\n",
       "</style>\n",
       "<table border=\"1\" class=\"dataframe\">\n",
       "  <thead>\n",
       "    <tr style=\"text-align: right;\">\n",
       "      <th></th>\n",
       "      <th>Unnamed: 0</th>\n",
       "      <th>Box Office</th>\n",
       "      <th>IMDB</th>\n",
       "      <th>Metacritic</th>\n",
       "      <th>Released</th>\n",
       "      <th>Rotten Tomatoes</th>\n",
       "      <th>Rank</th>\n",
       "      <th>Worldwide Box Office</th>\n",
       "      <th>Domestic Box Office</th>\n",
       "      <th>International Box Office</th>\n",
       "      <th>...</th>\n",
       "      <th>Actors_1</th>\n",
       "      <th>Actors_2</th>\n",
       "      <th>Actors_3</th>\n",
       "      <th>directors_1</th>\n",
       "      <th>directors_2</th>\n",
       "      <th>Country_1</th>\n",
       "      <th>language_1</th>\n",
       "      <th>language_2</th>\n",
       "      <th>Genre_1</th>\n",
       "      <th>Genre_2</th>\n",
       "    </tr>\n",
       "  </thead>\n",
       "  <tbody>\n",
       "    <tr>\n",
       "      <th>0</th>\n",
       "      <td>0</td>\n",
       "      <td>0</td>\n",
       "      <td>8.9</td>\n",
       "      <td>94</td>\n",
       "      <td>34621</td>\n",
       "      <td>0.94</td>\n",
       "      <td>726.0</td>\n",
       "      <td>212928762</td>\n",
       "      <td>107928762</td>\n",
       "      <td>105000000</td>\n",
       "      <td>...</td>\n",
       "      <td>5771</td>\n",
       "      <td>232</td>\n",
       "      <td>3537</td>\n",
       "      <td>1352</td>\n",
       "      <td>0</td>\n",
       "      <td>63</td>\n",
       "      <td>27</td>\n",
       "      <td>92</td>\n",
       "      <td>5</td>\n",
       "      <td>7</td>\n",
       "    </tr>\n",
       "    <tr>\n",
       "      <th>1</th>\n",
       "      <td>1</td>\n",
       "      <td>183277573</td>\n",
       "      <td>6.6</td>\n",
       "      <td>53</td>\n",
       "      <td>41761</td>\n",
       "      <td>0.52</td>\n",
       "      <td>107.0</td>\n",
       "      <td>708996336</td>\n",
       "      <td>202853933</td>\n",
       "      <td>506142403</td>\n",
       "      <td>...</td>\n",
       "      <td>293</td>\n",
       "      <td>1811</td>\n",
       "      <td>2535</td>\n",
       "      <td>1041</td>\n",
       "      <td>0</td>\n",
       "      <td>63</td>\n",
       "      <td>27</td>\n",
       "      <td>0</td>\n",
       "      <td>0</td>\n",
       "      <td>1</td>\n",
       "    </tr>\n",
       "    <tr>\n",
       "      <th>2</th>\n",
       "      <td>2</td>\n",
       "      <td>0</td>\n",
       "      <td>9.3</td>\n",
       "      <td>80</td>\n",
       "      <td>34621</td>\n",
       "      <td>0.91</td>\n",
       "      <td>3935.0</td>\n",
       "      <td>28307092</td>\n",
       "      <td>28241469</td>\n",
       "      <td>65623</td>\n",
       "      <td>...</td>\n",
       "      <td>5770</td>\n",
       "      <td>4343</td>\n",
       "      <td>668</td>\n",
       "      <td>511</td>\n",
       "      <td>0</td>\n",
       "      <td>63</td>\n",
       "      <td>27</td>\n",
       "      <td>0</td>\n",
       "      <td>7</td>\n",
       "      <td>0</td>\n",
       "    </tr>\n",
       "    <tr>\n",
       "      <th>3</th>\n",
       "      <td>3</td>\n",
       "      <td>2925880</td>\n",
       "      <td>8.5</td>\n",
       "      <td>87</td>\n",
       "      <td>31231</td>\n",
       "      <td>0.96</td>\n",
       "      <td>301.0</td>\n",
       "      <td>385524784</td>\n",
       "      <td>212259762</td>\n",
       "      <td>173265022</td>\n",
       "      <td>...</td>\n",
       "      <td>4175</td>\n",
       "      <td>1095</td>\n",
       "      <td>3561</td>\n",
       "      <td>1457</td>\n",
       "      <td>0</td>\n",
       "      <td>63</td>\n",
       "      <td>27</td>\n",
       "      <td>0</td>\n",
       "      <td>1</td>\n",
       "      <td>4</td>\n",
       "    </tr>\n",
       "    <tr>\n",
       "      <th>4</th>\n",
       "      <td>4</td>\n",
       "      <td>0</td>\n",
       "      <td>7.9</td>\n",
       "      <td>62</td>\n",
       "      <td>31093</td>\n",
       "      <td>0.88</td>\n",
       "      <td>2857.0</td>\n",
       "      <td>45875171</td>\n",
       "      <td>45875171</td>\n",
       "      <td>0</td>\n",
       "      <td>...</td>\n",
       "      <td>1786</td>\n",
       "      <td>4637</td>\n",
       "      <td>402</td>\n",
       "      <td>843</td>\n",
       "      <td>0</td>\n",
       "      <td>63</td>\n",
       "      <td>27</td>\n",
       "      <td>0</td>\n",
       "      <td>4</td>\n",
       "      <td>7</td>\n",
       "    </tr>\n",
       "  </tbody>\n",
       "</table>\n",
       "<p>5 rows × 21 columns</p>\n",
       "</div>"
      ],
      "text/plain": [
       "   Unnamed: 0  Box Office  IMDB  Metacritic  Released  Rotten Tomatoes  \\\n",
       "0           0           0   8.9          94     34621             0.94   \n",
       "1           1   183277573   6.6          53     41761             0.52   \n",
       "2           2           0   9.3          80     34621             0.91   \n",
       "3           3     2925880   8.5          87     31231             0.96   \n",
       "4           4           0   7.9          62     31093             0.88   \n",
       "\n",
       "     Rank  Worldwide Box Office  Domestic Box Office  \\\n",
       "0   726.0             212928762            107928762   \n",
       "1   107.0             708996336            202853933   \n",
       "2  3935.0              28307092             28241469   \n",
       "3   301.0             385524784            212259762   \n",
       "4  2857.0              45875171             45875171   \n",
       "\n",
       "   International Box Office  ...  Actors_1  Actors_2  Actors_3  directors_1  \\\n",
       "0                 105000000  ...      5771       232      3537         1352   \n",
       "1                 506142403  ...       293      1811      2535         1041   \n",
       "2                     65623  ...      5770      4343       668          511   \n",
       "3                 173265022  ...      4175      1095      3561         1457   \n",
       "4                         0  ...      1786      4637       402          843   \n",
       "\n",
       "   directors_2  Country_1  language_1  language_2  Genre_1  Genre_2  \n",
       "0            0         63          27          92        5        7  \n",
       "1            0         63          27           0        0        1  \n",
       "2            0         63          27           0        7        0  \n",
       "3            0         63          27           0        1        4  \n",
       "4            0         63          27           0        4        7  \n",
       "\n",
       "[5 rows x 21 columns]"
      ]
     },
     "execution_count": 5,
     "metadata": {},
     "output_type": "execute_result"
    }
   ],
   "source": [
    "df1 = df.fillna(0)\n",
    "df1.head()"
   ]
  },
  {
   "cell_type": "code",
   "execution_count": 11,
   "metadata": {},
   "outputs": [
    {
     "name": "stdout",
     "output_type": "stream",
     "text": [
      "(3841, 18) (3841, 1)\n"
     ]
    }
   ],
   "source": [
    "# Assign the data to X and y\n",
    "\n",
    "X = df1[[\"Box Office\", \"IMDB\", \"Metacritic\", \"Rotten Tomatoes\", \"Rank\",\"Worldwide Box Office\", \"International Box Office\", \"Actors_1\", \"Actors_1\",\n",
    "\"Actors_2\",\n",
    "\"Actors_3\",\n",
    "\"directors_1\",\n",
    "\"directors_2\",\n",
    "\"Country_1\",\n",
    "\"language_1\",\n",
    "\"language_2\",\n",
    "\"Genre_1\",\n",
    "\"Genre_2\"]]\n",
    "\n",
    "y = df1[\"Awards\"].values.reshape(-1, 1)\n",
    "print(X.shape, y.shape)"
   ]
  },
  {
   "cell_type": "code",
   "execution_count": 7,
   "metadata": {
    "deletable": false,
    "nbgrader": {
     "checksum": "0e9dac23ec6d6b0990cda5e7c69b2fc4",
     "grade": false,
     "grade_id": "cell-97f9d8f3d4b7abc1",
     "locked": false,
     "schema_version": 1,
     "solution": true
    }
   },
   "outputs": [],
   "source": [
    "# Use train_test_split to create training and testing data\n",
    "from sklearn.model_selection import train_test_split\n",
    "# YOUR CODE HERE\n",
    "X_train, X_test, y_train, y_test = train_test_split(X, y, random_state=42)"
   ]
  },
  {
   "cell_type": "code",
   "execution_count": 8,
   "metadata": {
    "deletable": false,
    "nbgrader": {
     "checksum": "615165fed89fc8535984670ca2b2c761",
     "grade": false,
     "grade_id": "cell-500eedfd487be441",
     "locked": false,
     "schema_version": 1,
     "solution": true
    }
   },
   "outputs": [],
   "source": [
    "# Create the model using LinearRegression\n",
    "from sklearn.linear_model import LinearRegression\n",
    "model = LinearRegression()\n",
    "\n",
    "# YOUR CODE HERE"
   ]
  },
  {
   "cell_type": "code",
   "execution_count": 9,
   "metadata": {
    "deletable": false,
    "nbgrader": {
     "checksum": "6edcc8709c42983e117c0c4ccb450faf",
     "grade": false,
     "grade_id": "cell-715f0369813d2b84",
     "locked": false,
     "schema_version": 1,
     "solution": true
    }
   },
   "outputs": [
    {
     "name": "stdout",
     "output_type": "stream",
     "text": [
      "Training Score: 0.12864753490450132\n",
      "Testing Score: 0.12194325133337003\n"
     ]
    }
   ],
   "source": [
    "# Fit the model to the training data and calculate the scores for the training and testing data\n",
    "model.fit(X_train, y_train)\n",
    "\n",
    "training_score = model.score(X_train, y_train)\n",
    "testing_score = model.score(X_test, y_test)\n",
    "\n",
    "# YOUR CODE HERE\n",
    "\n",
    "print(f\"Training Score: {training_score}\")\n",
    "print(f\"Testing Score: {testing_score}\")"
   ]
  },
  {
   "cell_type": "code",
   "execution_count": 10,
   "metadata": {
    "deletable": false,
    "nbgrader": {
     "checksum": "5a2a77d68ae0624a32c380992445befe",
     "grade": false,
     "grade_id": "cell-90aed41fb7c4f723",
     "locked": false,
     "schema_version": 1,
     "solution": true
    }
   },
   "outputs": [
    {
     "data": {
      "text/plain": [
       "<matplotlib.collections.LineCollection at 0x1a1aa6dba8>"
      ]
     },
     "execution_count": 10,
     "metadata": {},
     "output_type": "execute_result"
    },
    {
     "data": {
      "image/png": "[encoded data removed]",
      "text/plain": [
       "<Figure size 432x288 with 1 Axes>"
      ]
     },
     "metadata": {
      "needs_background": "light"
     },
     "output_type": "display_data"
    }
   ],
   "source": [
    "# Plot the Residuals for the Training and Testing data\n",
    "predicted = model.predict(X)\n",
    "\n",
    "plt.scatter(predicted, predicted-y)\n",
    "plt.hlines(y=0, xmin=predicted.min(), xmax=predicted.max())\n",
    "# YOUR CODE HERE"
   ]
  },
  {
   "cell_type": "code",
   "execution_count": null,
   "metadata": {},
   "outputs": [],
   "source": []
  }
 ],
 "metadata": {
  "kernelspec": {
   "display_name": "Python 3",
   "language": "python",
   "name": "python3"
  },
  "language_info": {
   "codemirror_mode": {
    "name": "ipython",
    "version": 3
   },
   "file_extension": ".py",
   "mimetype": "text/x-python",
   "name": "python",
   "nbconvert_exporter": "python",
   "pygments_lexer": "ipython3",
   "version": "3.6.8"
  },
  "varInspector": {
   "cols": {
    "lenName": 16,
    "lenType": 16,
    "lenVar": 40
   },
   "kernels_config": {
    "python": {
     "delete_cmd_postfix": "",
     "delete_cmd_prefix": "del ",
     "library": "var_list.py",
     "varRefreshCmd": "print(var_dic_list())"
    },
    "r": {
     "delete_cmd_postfix": ") ",
     "delete_cmd_prefix": "rm(",
     "library": "var_list.r",
     "varRefreshCmd": "cat(var_dic_list()) "
    }
   },
   "types_to_exclude": [
    "module",
    "function",
    "builtin_function_or_method",
    "instance",
    "_Feature"
   ],
   "window_display": false
  }
 },
 "nbformat": 4,
 "nbformat_minor": 2
}
